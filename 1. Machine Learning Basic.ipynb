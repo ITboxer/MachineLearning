{
 "cells": [
  {
   "cell_type": "markdown",
   "metadata": {},
   "source": [
    "## 1. Machine Learning Basics\n",
    "\n",
    "### Anaconda (python) 설치 및 Tensorflow 설치\n",
    "\n",
    "#### 1. Anaconda 및 python 제거\n",
    "\n",
    ">![Alt text](image/001.png)\n",
    "***\n",
    ">![Alt text](image/003.png)\n",
    "***\n",
    ">![Alt text](image/002.png)\n",
    "***"
   ]
  },
  {
   "cell_type": "markdown",
   "metadata": {},
   "source": [
    "\n",
    "#### 2. Anaconda 설치\n",
    "> # https://www.anaconda.com/products/individual#windows \n",
    "***\n",
    "> ![004.PNG](image/004_.png)\n",
    "***\n",
    "> ## Anaconda3-2021.05-Windows-x86_64.exe 다운로드 및 실행\n",
    "![005.PNG](image/005.PNG)\n",
    "![006.PNG](image/006.PNG)\n",
    "![007.PNG](image/007.PNG)\n",
    "![008.PNG](image/008.PNG)\n",
    "![009.PNG](image/009.PNG)\n",
    "![010.PNG](image/010.PNG)\n",
    "![011.png](image/011.png)\n"
   ]
  },
  {
   "cell_type": "markdown",
   "metadata": {},
   "source": [
    "#### 3. Tensorflow 설치\n",
    ">![012.png](image/012.png)\n",
    ">### 또는 Anaconda prompt를 검색하여 실행합니다.\n",
    "![013.png](image/013.png)\n",
    ">### pip install --upgrade tensorflow\n",
    "![014.png](image/014.png)\n",
    "> ### 설치가 완료된 후 cmd 창에 python을 입력하면 python에 접근할 수 있습니다.\n",
    "> ### 그 후 아래를 입력하여 버전이 나오면 제대로 설치되었음을 확인할 수 있습니다.\n",
    "> ```python\n",
    "> import tensorflow as tf\n",
    "> tf.__version__\n",
    "> ```\n"
   ]
  },
  {
   "cell_type": "code",
   "execution_count": 3,
   "metadata": {},
   "outputs": [
    {
     "data": {
      "text/plain": [
       "'2.5.0'"
      ]
     },
     "execution_count": 3,
     "metadata": {},
     "output_type": "execute_result"
    }
   ],
   "source": [
    "import tensorflow as tf\n",
    "\n",
    "\n",
    "tf.__version__"
   ]
  },
  {
   "cell_type": "markdown",
   "metadata": {},
   "source": [
    "# 4. Jupyter Notebook 테스트\n",
    ">![015.png](image/015.png)\n",
    "![016.png](image/016.png)\n",
    "![017.png](image/017.png)\n",
    "![018.PNG](image/018.PNG)\n",
    "> ### 제목을 원하는 대로 변경합니다.\n",
    "![019.PNG](image/019.PNG)\n",
    "> ### 앞에서와 똑같은 방법으로 jupyter notebook과 tensorflow 설치를 확인합니다.\n",
    "> ```python\n",
    "> import tensorflow as tf\n",
    "> tf.__version__\n",
    "> ```\n",
    "![020.PNG](image/020.PNG)\n",
    "\n"
   ]
  },
  {
   "cell_type": "markdown",
   "metadata": {},
   "source": [
    "### https://www.cheatography.com/weidadeyue/cheat-sheets/jupyter-notebook/"
   ]
  },
  {
   "cell_type": "markdown",
   "metadata": {},
   "source": [
    "## Python 기초\n",
    "\n",
    "+ Python은 배우기 쉽고 간결해서, 사용자가 많은 프로그래밍 언어입니다.\n",
    "+ 특히 Python에는 TensorFlow라는 강력한 딥 러닝 라이브러리가 있어서, 많은 사람들이 Python 언어와 TensorFlow로 AI 코드를 작성합니다. 게다가 Python은 numpy, matplotlib, pandas등 데이터 활용 관련 다양한 라이브러리를 활용할 수 있다는 장점이 있습니다.\n",
    "+ 아래에서 간단한 예제 코드를 통해 Python 문법을 알아보겠습니다."
   ]
  },
  {
   "cell_type": "markdown",
   "metadata": {},
   "source": [
    "+ Python 입출력"
   ]
  },
  {
   "cell_type": "code",
   "execution_count": 4,
   "metadata": {
    "scrolled": false
   },
   "outputs": [
    {
     "name": "stdout",
     "output_type": "stream",
     "text": [
      "이름: 이선우\n",
      "이선우 님 반갑습니다!\n"
     ]
    }
   ],
   "source": [
    "# 코드에 주석을 작성하려면, \"#\" 이후에 코멘트를 작성합니다. \n",
    "\n",
    "# 사용자로부터 입력을 받으려면 input()함수를 사용합니다.\n",
    "name = input(\"이름: \")\n",
    "# 저장된 값을 출력하려면 print()함수를 사용합니다.\n",
    "print(name, \"님 반갑습니다!\")"
   ]
  },
  {
   "cell_type": "markdown",
   "metadata": {},
   "source": [
    "\n",
    "+ Python 데이터타입 (boolean, int, float, None)"
   ]
  },
  {
   "cell_type": "code",
   "execution_count": 6,
   "metadata": {},
   "outputs": [
    {
     "name": "stdout",
     "output_type": "stream",
     "text": [
      "a: True\n",
      "b: 1\n",
      "c: 1.1\n",
      "d: None\n",
      "type(a): <class 'bool'>\n",
      "type(b): <class 'int'>\n",
      "type(c): <class 'float'>\n",
      "type(d): <class 'NoneType'>\n",
      "Is c int? False\n"
     ]
    }
   ],
   "source": [
    "a = True  # boolean\n",
    "b = 1     # int\n",
    "c = 1.1   # float\n",
    "d = None  # None (null 값)\n",
    "\n",
    "print(\"a:\", a)\n",
    "print(\"b:\", b)\n",
    "print(\"c:\", c)\n",
    "print(\"d:\", d)\n",
    "print('type(a):', type(a))\n",
    "print('type(b):', type(b))\n",
    "print('type(c):', type(c))\n",
    "print('type(d):', type(d))\n",
    "print('Is c int?', isinstance(c,int))"
   ]
  },
  {
   "cell_type": "markdown",
   "metadata": {},
   "source": [
    "+ Python 데이터타입 (tuple, string, list, dictionary)"
   ]
  },
  {
   "cell_type": "code",
   "execution_count": 13,
   "metadata": {},
   "outputs": [
    {
     "name": "stdout",
     "output_type": "stream",
     "text": [
      "e: (1, 2, 3)\n",
      "f: string\n",
      "g: [1, 2, 3, 4, 5]\n",
      "h: {'a': 1, 'b': 2}\n",
      "type(e): <class 'tuple'>\n",
      "type(f): <class 'str'>\n",
      "type(g): <class 'list'>\n",
      "type(h): <class 'dict'>\n"
     ]
    }
   ],
   "source": [
    "# tuple은 ,로 연결합니다.\n",
    "e = 1, 2, 3\n",
    "e = (1, 2, 3)\n",
    "\n",
    "# string은 \"\" 또는 ''를 사용합니다.\n",
    "f = \"string\"\n",
    "f = 'string'\n",
    "\n",
    "# list는 []를 사용합니다.\n",
    "g = [1, 2, 3, 4, 5]\n",
    "\n",
    "# dictionary는 {}를 사용합니다.\n",
    "h = {\"a\":1, \"b\":2}\n",
    "\n",
    "\n",
    "print(\"e:\", e)\n",
    "print(\"f:\", f)\n",
    "print(\"g:\", g)\n",
    "print(\"h:\", h)\n",
    "print('type(e):', type(e))\n",
    "print('type(f):', type(f))\n",
    "print('type(g):', type(g))\n",
    "print('type(h):', type(h))"
   ]
  },
  {
   "cell_type": "code",
   "execution_count": 14,
   "metadata": {},
   "outputs": [
    {
     "name": "stdout",
     "output_type": "stream",
     "text": [
      "len(e), len(f), len(g), len(h):  3 6 5 2\n",
      "f[0]: s\n",
      "f[-1]: g\n",
      "f[1:4]: tri\n",
      "f[:3]: str\n"
     ]
    }
   ],
   "source": [
    "# len 함수를 사용하여 tuple, string, list, dictionary의 길이를 알 수 있습니다.\n",
    "len_e = len(e)\n",
    "len_f = len(f)\n",
    "len_g = len(g)\n",
    "len_h = len(h)\n",
    "\n",
    "# 인덱싱 (f=\"string\")\n",
    "fa = f[0]  # 1번째 문자 (\"s\"). index는 첫 문자가 0으로 시작합니다. \n",
    "fb = f[-1]  # 6번째 문자 (\"g\"). 음수 index는 끝쪽부터 셉니다. f[-1]=f[5]=f[len(f)-1]\n",
    "fc = f[1:4]  # 2~4번째 문자 (\"tri\"). f[1:4]의 경우 문자 f[1]는 포함이 되고, f[4]는 포함되지 않습니다.\n",
    "fd = f[:3]   # 1~3번째 문자 (\"str\"). f[:3]=f[0:3]\n",
    "\n",
    "print(\"len(e), len(f), len(g), len(h): \", len_e, len_f, len_g, len_h)\n",
    "\n",
    "print(\"f[0]:\", fa)\n",
    "print(\"f[-1]:\", fb)\n",
    "print(\"f[1:4]:\", fc)\n",
    "print(\"f[:3]:\", fd)"
   ]
  },
  {
   "cell_type": "markdown",
   "metadata": {},
   "source": [
    "+ 문법 (for, if)"
   ]
  },
  {
   "cell_type": "code",
   "execution_count": 9,
   "metadata": {},
   "outputs": [
    {
     "name": "stdout",
     "output_type": "stream",
     "text": [
      "카운트업\n",
      "0\n",
      "1\n",
      "2\n",
      "3\n",
      "4\n",
      "5\n",
      "6\n",
      "7\n",
      "8\n",
      "9\n",
      "카운트다운\n",
      "10\n",
      "9\n",
      "8\n",
      "7\n",
      "6\n",
      "5\n",
      "4\n",
      "3\n",
      "2\n",
      "1\n",
      "출력\n",
      "1000\n",
      "3\n",
      "99\n"
     ]
    }
   ],
   "source": [
    "# 0부터 9까지 카운트업\n",
    "print(\"카운트업\")\n",
    "for i in range(10): # 0부터 1씩 증가, 10이 되면 중단\n",
    "    print(i)\n",
    "\n",
    "# 10부터 1까지 카운트다운\n",
    "print(\"카운트다운\")\n",
    "for i in range(10, 0, -1):  # 10부터 1씩 감소, 0이 되면 중단\n",
    "    print(i)\n",
    "\n",
    "print(\"출력\")\n",
    "for i in [1000, 3, 99]:  # 차례로 출력\n",
    "    print(i)"
   ]
  },
  {
   "cell_type": "code",
   "execution_count": 18,
   "metadata": {},
   "outputs": [
    {
     "name": "stdout",
     "output_type": "stream",
     "text": [
      "m: 5\n",
      "else\n"
     ]
    }
   ],
   "source": [
    "m = 5\n",
    "print(\"m:\",m)\n",
    "if m == 1:\n",
    "    print(\"if\")\n",
    "elif 2 < m <= 4 or m > 6:\n",
    "    print(\"elif\")\n",
    "else:\n",
    "    print(\"else\")"
   ]
  },
  {
   "cell_type": "markdown",
   "metadata": {},
   "source": [
    "+ 문법 (function, class)"
   ]
  },
  {
   "cell_type": "code",
   "execution_count": 19,
   "metadata": {},
   "outputs": [
    {
     "name": "stdout",
     "output_type": "stream",
     "text": [
      "swap(1,2): (2, 1)\n",
      "add(1): 1\n",
      "add(\"a\",\"b\"): ab\n",
      "키보드 가격: 10000 원\n",
      "\n",
      "키보드 가격: 20000 원\n",
      "p 를 눌렀습니다.\n"
     ]
    }
   ],
   "source": [
    "# 두 변수를 교체하는 함수\n",
    "def swap(a, b):\n",
    "    a, b = b, a  # a, b의 값이 동시에 바뀝니다.\n",
    "    return a, b\n",
    "\n",
    "# 두 변수를 더하는 함수\n",
    "def add(a, b=0): # parameter의 기본값을 지정할 수 있습니다.\n",
    "    return a + b\n",
    "\n",
    "print('swap(1,2):', swap(1,2))\n",
    "print('add(1):', add(1))\n",
    "print('add(\"a\",\"b\"):', add(\"a\",\"b\"))\n",
    "\n",
    "# class\n",
    "class Keyboard:\n",
    "    def __init__(self, price):\n",
    "        self.price = price\n",
    "    \n",
    "    def press_key(self, key):\n",
    "        pass   # 어떤 행동도 하지 않습니다.\n",
    "\n",
    "# 상속\n",
    "class MyKeyboard(Keyboard):\n",
    "    def __init__(self, price):\n",
    "        super().__init__(price)\n",
    "   \n",
    "    def press_key(self, key):\n",
    "        print(key, \"를 눌렀습니다.\")\n",
    "\n",
    "a_keyboard = Keyboard(10000)\n",
    "print(\"키보드 가격:\", a_keyboard.price, \"원\")\n",
    "a_keyboard.press_key(\"p\")\n",
    "print()\n",
    "b_keyboard = MyKeyboard(20000)\n",
    "print(\"키보드 가격:\", b_keyboard.price, \"원\")\n",
    "b_keyboard.press_key(\"p\")"
   ]
  },
  {
   "cell_type": "markdown",
   "metadata": {},
   "source": [
    "+ Package import"
   ]
  },
  {
   "cell_type": "code",
   "execution_count": 17,
   "metadata": {},
   "outputs": [
    {
     "name": "stdout",
     "output_type": "stream",
     "text": [
      "2021-07-20\n"
     ]
    }
   ],
   "source": [
    "import datetime\n",
    "\n",
    "print(datetime.date.today())"
   ]
  },
  {
   "cell_type": "code",
   "execution_count": null,
   "metadata": {},
   "outputs": [],
   "source": []
  },
  {
   "cell_type": "code",
   "execution_count": null,
   "metadata": {},
   "outputs": [],
   "source": []
  },
  {
   "cell_type": "code",
   "execution_count": null,
   "metadata": {},
   "outputs": [],
   "source": []
  },
  {
   "cell_type": "code",
   "execution_count": null,
   "metadata": {},
   "outputs": [],
   "source": []
  },
  {
   "cell_type": "code",
   "execution_count": null,
   "metadata": {},
   "outputs": [],
   "source": []
  }
 ],
 "metadata": {
  "kernelspec": {
   "display_name": "Python 3",
   "language": "python",
   "name": "python3"
  },
  "language_info": {
   "codemirror_mode": {
    "name": "ipython",
    "version": 3
   },
   "file_extension": ".py",
   "mimetype": "text/x-python",
   "name": "python",
   "nbconvert_exporter": "python",
   "pygments_lexer": "ipython3",
   "version": "3.8.8"
  }
 },
 "nbformat": 4,
 "nbformat_minor": 2
}
