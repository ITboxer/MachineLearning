{
 "cells": [
  {
   "cell_type": "markdown",
   "id": "18338c2e",
   "metadata": {},
   "source": [
    "# Malware Classification\n",
    "\n",
    "+ https://github.com/danielgibert/mlw_classification_cnn_img\n",
    "\n",
    "+ https://github.com/AFAgarap/malware-classification\n"
   ]
  },
  {
   "cell_type": "markdown",
   "id": "3315520e",
   "metadata": {},
   "source": [
    "## How to upload a file (Colaboratory)\n",
    "![COLAB](image/LSTM1.png)\n",
    "\n",
    "+ Click folder button on the right side\n",
    "+ Upload malimg.npz"
   ]
  },
  {
   "cell_type": "code",
   "execution_count": null,
   "id": "ff2e18ef",
   "metadata": {},
   "outputs": [],
   "source": [
    "from google.colab import files\n",
    "\n",
    "uploaded = files.upload()\n",
    "\n",
    "for fn in uploaded.keys():\n",
    "    print('User uploaded file \"{name}\" with length {length} bytes'.format(\n",
    "      name=fn, length=len(uploaded[fn])))"
   ]
  },
  {
   "cell_type": "code",
   "execution_count": null,
   "id": "e2bb2e4b",
   "metadata": {},
   "outputs": [],
   "source": [
    "import argparse\n",
    "import os\n",
    "\n",
    "import numpy as np\n",
    "import matplotlib.pyplot as plt\n",
    "\n",
    "from sklearn.model_selection import train_test_split\n",
    "from sklearn.preprocessing import StandardScaler\n",
    "from sklearn.metrics import accuracy_score, classification_report, confusion_matrix, f1_score\n",
    "\n",
    "import tensorflow as tf\n",
    "from tensorflow.keras import datasets, layers, models\n",
    "from tensorflow.keras import Model\n",
    "\n",
    "BATCH_SIZE = \"batch_size\"\n",
    "CELL_SIZE = \"cell_size\""
   ]
  },
  {
   "cell_type": "code",
   "execution_count": null,
   "id": "67a3b646",
   "metadata": {},
   "outputs": [],
   "source": [
    "print(\"Num GPUs Available: \", len(tf.config.list_physical_devices('GPU')))\n",
    "tf.__version__"
   ]
  },
  {
   "cell_type": "code",
   "execution_count": null,
   "id": "e51189d7",
   "metadata": {},
   "outputs": [],
   "source": [
    "dataset = np.load(\"./malimg.npz\", allow_pickle=True)  # malware 프로그램을 이미지로 변환한 데이터셋"
   ]
  },
  {
   "cell_type": "code",
   "execution_count": null,
   "id": "9e15e7ef",
   "metadata": {},
   "outputs": [],
   "source": [
    "def load_data(dataset, standardize=True):\n",
    "    features = dataset[\"arr\"][:, 0]\n",
    "    features = np.array([feature for feature in features])\n",
    "    features = np.reshape(\n",
    "        features, (features.shape[0], features.shape[1] * features.shape[2])\n",
    "    )\n",
    "\n",
    "    if standardize:\n",
    "        features = StandardScaler().fit_transform(features)\n",
    "    features = features.astype(np.float32)\n",
    "        \n",
    "    labels = dataset[\"arr\"][:, 1]\n",
    "    labels = np.array([label for label in labels])\n",
    "\n",
    "    return features, labels"
   ]
  },
  {
   "cell_type": "code",
   "execution_count": null,
   "id": "70c54e0d",
   "metadata": {},
   "outputs": [],
   "source": [
    "features, labels = load_data(dataset=dataset)  # 데이터셋을 feature, label로 가공, 데이터 normalization"
   ]
  },
  {
   "cell_type": "code",
   "execution_count": null,
   "id": "82e81123",
   "metadata": {},
   "outputs": [],
   "source": [
    "features.shape  # 9339개의 32x32 크기 grayscale 이미지 (channel: 1), (0~255 사이의 값을 가짐)"
   ]
  },
  {
   "cell_type": "code",
   "execution_count": null,
   "id": "88a933dc",
   "metadata": {},
   "outputs": [],
   "source": [
    "labels.shape    # 9339개의 label"
   ]
  },
  {
   "cell_type": "code",
   "execution_count": null,
   "id": "64c07b3d",
   "metadata": {},
   "outputs": [],
   "source": [
    "MALWARE_FAMILIES = [\n",
    "    \"Adialer.C\",\n",
    "    \"Agent.FYI\",\n",
    "    \"Allaple.A\",\n",
    "    \"Allaple.L\",\n",
    "    \"Alueron.gen!J\",\n",
    "    \"Autorun.K\",\n",
    "    \"C2LOP.P\",\n",
    "    \"C2LOP.gen!g\",\n",
    "    \"Dialplatform.B\",\n",
    "    \"Dontovo.A\",\n",
    "    \"Fakerean\",\n",
    "    \"Instantaccess\",\n",
    "    \"Lolyda.AA1\",\n",
    "    \"Lolyda.AA2\",\n",
    "    \"Lolyda.AA3\",\n",
    "    \"Lolyda.AT\",\n",
    "    \"Malex.gen!J\",\n",
    "    \"Obfuscator.AD\",\n",
    "    \"Rbot!gen\",\n",
    "    \"Skintrim.N\",\n",
    "    \"Swizzor.gen!E\",\n",
    "    \"Swizzor.gen!I\",\n",
    "    \"VB.AT\",\n",
    "    \"Wintrim.BX\",\n",
    "    \"Yuner.A\",\n",
    "]\n",
    "# malware category 이름"
   ]
  },
  {
   "cell_type": "code",
   "execution_count": null,
   "id": "ae1673ee",
   "metadata": {},
   "outputs": [],
   "source": [
    "# get the number of features\n",
    "num_features = features.shape[1]\n",
    "\n",
    "# get the number of classes\n",
    "num_classes = len(MALWARE_FAMILIES)\n",
    "\n",
    "# split the dataset by 70/30\n",
    "train_features, test_features, train_labels, test_labels = train_test_split(\n",
    "    features, labels, test_size=0.30, stratify=labels\n",
    ")"
   ]
  },
  {
   "cell_type": "code",
   "execution_count": null,
   "id": "c556ae73",
   "metadata": {},
   "outputs": [],
   "source": [
    "# 데이터셋 확인\n",
    "n = (10, 10)\n",
    "\n",
    "# 10x10개의 malware 이미지와 이름을 확인합니다.\n",
    "fig, ax = plt.subplots(n[0],n[1],figsize=(12, 10))\n",
    "\n",
    "for i in range(n[0] * n[1]):\n",
    "    elem = i\n",
    "    row = i // n[1]\n",
    "    col = i % n[1]\n",
    "    ax[row][col].imshow(train_features[elem].reshape(32,32), cmap='gray', vmin=-1, vmax=1)\n",
    "    ax[row][col].set(xticks=[], yticks=[], frame_on=False)\n",
    "    ax[row][col].set(xlabel=\"{}\".format(MALWARE_FAMILIES[train_labels[elem]]))\n",
    "fig.tight_layout() \n",
    "\n",
    "plt.show()"
   ]
  },
  {
   "cell_type": "code",
   "execution_count": null,
   "id": "092bd8f3",
   "metadata": {},
   "outputs": [],
   "source": [
    "class CNNModel(Model):\n",
    "    def __init__(self, num_classes, *, drop_rate=0):\n",
    "        super().__init__()\n",
    "        self.conv1 = layers.Conv2D(36,5, activation='relu', padding=\"same\", input_shape=(32,32,1))\n",
    "        self.conv2 = layers.Conv2D(72,5, activation='relu', padding=\"same\")\n",
    "        self.maxpool = layers.MaxPool2D((2,2))\n",
    "        self.flatten = layers.Flatten()\n",
    "        self.dropout = layers.Dropout(drop_rate)\n",
    "        self.d1 = layers.Dense(1024, activation='relu')\n",
    "        self.d2 = layers.Dense(num_classes)\n",
    "        \n",
    "    def call(self, x):\n",
    "        x = tf.reshape(x, [-1, 32, 32, 1])\n",
    "        # convolution layer (36x36, 5channel) + activation (relu) + max pooling\n",
    "        x = self.conv1(x)\n",
    "        x = self.maxpool(x)\n",
    "        # convolution layer (72x72, 5channel) + activation (relu) + max pooling\n",
    "        x = self.conv2(x)\n",
    "        x = self.maxpool(x)\n",
    "        # dense layer (1024 dimensions) + activation (relu) + dropout\n",
    "        x = self.flatten(x)\n",
    "        x = self.d1(x)\n",
    "        x = self.dropout(x)\n",
    "        # dense layer (num_classes dimensions)\n",
    "        x = self.d2(x)\n",
    "        return x"
   ]
  },
  {
   "cell_type": "code",
   "execution_count": null,
   "id": "14bf5502",
   "metadata": {},
   "outputs": [],
   "source": [
    "# 최적화 목적 함수 (cross entropy loss)\n",
    "loss_object = tf.keras.losses.SparseCategoricalCrossentropy(from_logits=True)\n",
    "\n",
    "# 최적화 알고리즘 (Adam)\n",
    "optimizer = tf.keras.optimizers.Adam()"
   ]
  },
  {
   "cell_type": "code",
   "execution_count": null,
   "id": "313ad1ce",
   "metadata": {},
   "outputs": [],
   "source": [
    "# 모델 평가 (loss, 정확도)\n",
    "train_loss = tf.keras.metrics.Mean(name='train_loss')\n",
    "train_accuracy = tf.keras.metrics.SparseCategoricalAccuracy(name=\"train_accuracy\")\n",
    "\n",
    "test_loss = tf.keras.metrics.Mean(name='test_loss')\n",
    "test_accuracy = tf.keras.metrics.SparseCategoricalAccuracy(name=\"test_accuracy\")"
   ]
  },
  {
   "cell_type": "code",
   "execution_count": null,
   "id": "87cb5d93",
   "metadata": {},
   "outputs": [],
   "source": [
    "@tf.function\n",
    "def train_step(images, labels):\n",
    "    with tf.GradientTape() as tape:\n",
    "        # 모형에 데이터를 넣어서 예측 값을 얻음\n",
    "        predictions = model(images, training=True)  # training이 True일 경우 dropout 사용\n",
    "        \n",
    "        # 최적화 목표함수를 기준으로 예측 값을 평가 (loss를 구함)\n",
    "        loss = loss_object(labels, predictions)\n",
    "    \n",
    "    # loss를 최소화하는 기울기(gradient)를 계산함.\n",
    "    gradients = tape.gradient(loss, model.trainable_variables)\n",
    "    \n",
    "    # 기울기를 바탕으로 모형 파라미터를 수정함\n",
    "    optimizer.apply_gradients(zip(gradients, model.trainable_variables))\n",
    "    \n",
    "    # loss, accuracy 기록\n",
    "    train_loss(loss)\n",
    "    train_accuracy(labels, predictions)\n",
    "\n",
    "@tf.function\n",
    "def test_step(images, labels):\n",
    "    predictions = model(images, training=False)  # training이 False일 경우 dropout 사용 안함\n",
    "    t_loss = loss_object(labels, predictions)\n",
    "\n",
    "    test_loss(t_loss)\n",
    "    test_accuracy(labels, predictions)"
   ]
  },
  {
   "cell_type": "code",
   "execution_count": null,
   "id": "f447cdb8",
   "metadata": {},
   "outputs": [],
   "source": [
    "# 데이더셋 로더 (batch size, shuffling)\n",
    "\n",
    "train_ds = tf.data.Dataset.from_tensor_slices(\n",
    "    (train_features, train_labels)).shuffle(train_features.shape[0]).batch(32)\n",
    "\n",
    "test_ds = tf.data.Dataset.from_tensor_slices((test_features, test_labels)).batch(32)"
   ]
  },
  {
   "cell_type": "code",
   "execution_count": null,
   "id": "6d532373",
   "metadata": {},
   "outputs": [],
   "source": [
    "model = CNNModel(num_classes, drop_rate=0)"
   ]
  },
  {
   "cell_type": "code",
   "execution_count": null,
   "id": "d78cf849",
   "metadata": {},
   "outputs": [],
   "source": [
    "EPOCHS = 20\n",
    "\n",
    "for epoch in range(EPOCHS):\n",
    "    # loss, accuracy 기록 리셋\n",
    "    train_loss.reset_states()\n",
    "    train_accuracy.reset_states()\n",
    "    test_loss.reset_states()\n",
    "    test_accuracy.reset_states()\n",
    "    \n",
    "    # training 데이터셋으로 학습\n",
    "    for images, labels in train_ds:\n",
    "        train_step(images, labels)\n",
    "\n",
    "    # test 데이터셋으로 성능 평가\n",
    "    for images, labels in test_ds:\n",
    "        test_step(images, labels)\n",
    "        \n",
    "    print(\n",
    "        f'Epoch {epoch + 1}, '\n",
    "        f'Loss: {train_loss.result()}, '\n",
    "        f'Accuracy: {train_accuracy.result() * 100}, '\n",
    "        f'Test Loss: {test_loss.result()}, '\n",
    "        f'Test Accuracy: {test_accuracy.result() * 100}'\n",
    "    )"
   ]
  },
  {
   "cell_type": "code",
   "execution_count": null,
   "id": "ad0e818e",
   "metadata": {},
   "outputs": [],
   "source": [
    "predicted_labels = model(test_features)\n",
    "predicted_labels = tf.math.argmax(predicted_labels, 1)\n",
    "predicted_labels = predicted_labels.numpy() # 모형 예측값\n",
    "\n",
    "# precision, recall, f1-score\n",
    "report = classification_report(y_true=test_labels, y_pred=predicted_labels, target_names=MALWARE_FAMILIES)\n",
    "print(report)"
   ]
  },
  {
   "cell_type": "code",
   "execution_count": null,
   "id": "fc0bbf5b",
   "metadata": {},
   "outputs": [],
   "source": [
    "# confusion matrix\n",
    "conf = confusion_matrix(y_true=test_labels, y_pred=predicted_labels)\n",
    "\n",
    "plt.figure(figsize=(12,10))\n",
    "plt.imshow(conf, cmap=plt.cm.Greys, interpolation=\"nearest\")\n",
    "plt.title(\"Confusion matrix\")\n",
    "\n",
    "plt.colorbar()\n",
    "\n",
    "tick_marks = np.arange(len(MALWARE_FAMILIES))\n",
    "plt.xticks(tick_marks, MALWARE_FAMILIES, rotation=45)\n",
    "plt.yticks(tick_marks, MALWARE_FAMILIES)\n",
    "\n",
    "plt.tight_layout()\n",
    "plt.ylabel(\"Actual label\")\n",
    "plt.xlabel(\"Predicted label\")\n",
    "\n",
    "plt.show()"
   ]
  }
 ],
 "metadata": {
  "kernelspec": {
   "display_name": "Python 3",
   "language": "python",
   "name": "python3"
  },
  "language_info": {
   "codemirror_mode": {
    "name": "ipython",
    "version": 3
   },
   "file_extension": ".py",
   "mimetype": "text/x-python",
   "name": "python",
   "nbconvert_exporter": "python",
   "pygments_lexer": "ipython3",
   "version": "3.8.8"
  }
 },
 "nbformat": 4,
 "nbformat_minor": 5
}
