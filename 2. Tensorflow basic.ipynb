{
 "cells": [
  {
   "cell_type": "markdown",
   "metadata": {},
   "source": [
    "# Tensorflow Basic"
   ]
  },
  {
   "cell_type": "code",
   "execution_count": 1,
   "metadata": {
    "scrolled": false
   },
   "outputs": [],
   "source": [
    "import tensorflow as tf"
   ]
  },
  {
   "cell_type": "markdown",
   "metadata": {},
   "source": [
    "## TensorFlow 2"
   ]
  },
  {
   "cell_type": "markdown",
   "metadata": {},
   "source": [
    "## 변수"
   ]
  },
  {
   "cell_type": "code",
   "execution_count": 2,
   "metadata": {},
   "outputs": [],
   "source": [
    "x_data = [[1.,2,3], [4,5,6]]"
   ]
  },
  {
   "cell_type": "markdown",
   "metadata": {},
   "source": [
    "+ 변수들을 정의해보겠습니다.  \n",
    "변수 정의는 [tf.Variable](https://www.tensorflow.org/api_docs/python/tf/Variable)을 사용하여 합니다.  \n",
    "\n",
    "```python\n",
    "tf.Variable(\n",
    "    initial_value=None, trainable=None, validate_shape=True, caching_device=None,\n",
    "    name=None, variable_def=None, dtype=None, import_scope=None, constraint=None,\n",
    "    synchronization=tf.VariableSynchronization.AUTO,\n",
    "    aggregation=tf.compat.v1.VariableAggregation.NONE, shape=None\n",
    ")\n",
    "```"
   ]
  },
  {
   "cell_type": "markdown",
   "metadata": {},
   "source": [
    "+ tf.Variable은 다양한 인자가 존재하지만 여기서 2가지만 필수적으로 알면 됩니다.  \n",
    "첫번째는 initial_value입니다. 이것은 tf.constant와 같이 값을 넣어주는데 이때 직접 값을 적어서 넣어도 되고  \n",
    "tf.random.normal과 같은 함수를 이용하여 넣어줄수도 있습니다.  \n",
    "두번째는 trainable입니다. 만약 trainable이 True 일경우 모델 학습시에 tf.Variable에 들어가 있는 변수가 학습이 되어 바뀌게 됩니다.  \n",
    "False로 지정하면 변수값이 바뀌지 않습니다.  \n",
    "저희는 tf.random.normal을 이용하여 변수를 할당하겠습니다."
   ]
  },
  {
   "cell_type": "code",
   "execution_count": 3,
   "metadata": {},
   "outputs": [],
   "source": [
    "W = tf.Variable(tf.random.normal([3,2]))\n",
    "b = tf.Variable(tf.random.normal([2,2]))"
   ]
  },
  {
   "cell_type": "markdown",
   "metadata": {},
   "source": [
    "+ 각각 W와 b에 텐서플로우의 **변수**를 생성하여 할당합니다.  \n",
    "W는 [3, 2] 행렬 형태의 텐서, b는 [2, 1] 행렬 형태의 텐서로, tf.random_normal 함수를 이용해 정규분포의 무작위 값으로 초기화합니다.  \n",
    "물론 다른 생성 함수를 사용하거나, 다음처럼 직접 원하는 텐서의 형태의 데이터를 만들어서 넣어줄 수도 있습니다.  "
   ]
  },
  {
   "cell_type": "code",
   "execution_count": 4,
   "metadata": {},
   "outputs": [],
   "source": [
    "# 참고) 직접 원하는 텐서의 형태의 데이터를 만들어서 입력하는 경우\n",
    "W = tf.Variable([[0.1, 0.1], [0.2, 0.2], [0.3, 0.3]])"
   ]
  },
  {
   "cell_type": "markdown",
   "metadata": {},
   "source": [
    "+ 다음으로 입력값과 변수들을 계산할 수식을 작성해보겠습니다.  \n",
    "X와 W가 행렬이기 때문에 tf.matmul 함수를 사용하여야 합니다.  \n",
    "행렬이 아닌 경우에는 단순히 곱셈 연산자(\\*)나 tf.mul 함수를 사용하면 됩니다.  "
   ]
  },
  {
   "cell_type": "code",
   "execution_count": 5,
   "metadata": {},
   "outputs": [],
   "source": [
    "def expr(X):\n",
    "    return tf.matmul(X, W) + b"
   ]
  },
  {
   "cell_type": "code",
   "execution_count": 6,
   "metadata": {},
   "outputs": [
    {
     "name": "stdout",
     "output_type": "stream",
     "text": [
      "=== x_data ===\n",
      "[[1.0, 2, 3], [4, 5, 6]]\n",
      "=== W ===\n",
      "<tf.Variable 'Variable:0' shape=(3, 2) dtype=float32, numpy=\n",
      "array([[0.1, 0.1],\n",
      "       [0.2, 0.2],\n",
      "       [0.3, 0.3]], dtype=float32)>\n",
      "=== b ===\n",
      "<tf.Variable 'Variable:0' shape=(2, 2) dtype=float32, numpy=\n",
      "array([[ 0.2710776 ,  0.53908455],\n",
      "       [-1.6027063 ,  0.4244381 ]], dtype=float32)>\n",
      "=== expr ===\n",
      "tf.Tensor(\n",
      "[[1.6710777 1.9390846]\n",
      " [1.5972937 3.624438 ]], shape=(2, 2), dtype=float32)\n"
     ]
    }
   ],
   "source": [
    "print(\"=== x_data ===\")\n",
    "print(x_data)\n",
    "print(\"=== W ===\")\n",
    "print(W)\n",
    "print(\"=== b ===\")\n",
    "print(b)\n",
    "print(\"=== expr ===\")\n",
    "print(expr(x_data))"
   ]
  },
  {
   "cell_type": "markdown",
   "metadata": {},
   "source": [
    " + `@tf.function` 데코레이터를 추가하여 경우에 따라 계산 속도를 더 빠르게 할 수 있습니다."
   ]
  },
  {
   "cell_type": "code",
   "execution_count": 7,
   "metadata": {},
   "outputs": [],
   "source": [
    "@tf.function\n",
    "def expr2(X):\n",
    "    return tf.matmul(X,W)+ b"
   ]
  },
  {
   "cell_type": "code",
   "execution_count": 8,
   "metadata": {},
   "outputs": [
    {
     "name": "stdout",
     "output_type": "stream",
     "text": [
      "=== x_data ===\n",
      "[[1.0, 2, 3], [4, 5, 6]]\n",
      "=== W ===\n",
      "<tf.Variable 'Variable:0' shape=(3, 2) dtype=float32, numpy=\n",
      "array([[0.1, 0.1],\n",
      "       [0.2, 0.2],\n",
      "       [0.3, 0.3]], dtype=float32)>\n",
      "=== b ===\n",
      "<tf.Variable 'Variable:0' shape=(2, 2) dtype=float32, numpy=\n",
      "array([[ 0.2710776 ,  0.53908455],\n",
      "       [-1.6027063 ,  0.4244381 ]], dtype=float32)>\n",
      "=== expr ===\n",
      "tf.Tensor(\n",
      "[[1.6710777 1.9390846]\n",
      " [1.5972937 3.624438 ]], shape=(2, 2), dtype=float32)\n"
     ]
    }
   ],
   "source": [
    "print(\"=== x_data ===\")\n",
    "print(x_data)\n",
    "print(\"=== W ===\")\n",
    "print(W)\n",
    "print(\"=== b ===\")\n",
    "print(b)\n",
    "print(\"=== expr ===\")\n",
    "print(expr2(x_data))"
   ]
  },
  {
   "cell_type": "markdown",
   "metadata": {},
   "source": [
    "## 참고: TensorFlow 1 코드 실행 방법\n",
    "\n",
    "+ TensorFlow 2에서 syntax를 바꾸고 함수의 이름을 바꾸는 등 라이브러리에서 큰 변화가 있었기 때문에, 이전 버전의 코드가 실행되지 않습니다. 사용하려면 아래와 같이 코드를 일부 수정해야 합니다. 원래 있던 import 구문인\n",
    "```python\n",
    "import tensorflow as tf\n",
    "```\n",
    "대신에\n",
    "```python\n",
    "import tensorflow.compat.v1 as tf\n",
    "tf.disable_v2_behavior()\n",
    "```\n",
    "로 바꾸면 코드가 정상적으로 실행됩니다.\n",
    "\n",
    "+ Google Colab에서는 `import tensorflow as tf` 구문 이전에 `%tensorflow_version 2.`를 사용한 경우도 실행이 가능합니다."
   ]
  },
  {
   "cell_type": "markdown",
   "metadata": {},
   "source": [
    "***\n",
    "## Tensorflow\n",
    "+ [Tensorflow Tutorials](https://www.tensorflow.org/tutorials)"
   ]
  }
 ],
 "metadata": {
  "kernelspec": {
   "display_name": "Python 3",
   "language": "python",
   "name": "python3"
  },
  "language_info": {
   "codemirror_mode": {
    "name": "ipython",
    "version": 3
   },
   "file_extension": ".py",
   "mimetype": "text/x-python",
   "name": "python",
   "nbconvert_exporter": "python",
   "pygments_lexer": "ipython3",
   "version": "3.8.8"
  }
 },
 "nbformat": 4,
 "nbformat_minor": 2
}
