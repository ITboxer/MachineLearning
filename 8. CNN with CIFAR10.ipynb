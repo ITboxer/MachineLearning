{
 "cells": [
  {
   "cell_type": "markdown",
   "metadata": {},
   "source": [
    "# Convolutional Neural Network with CIFAR-10"
   ]
  },
  {
   "cell_type": "code",
   "execution_count": null,
   "metadata": {},
   "outputs": [],
   "source": [
    "%matplotlib inline\n",
    "import tensorflow as tf\n",
    "import numpy as np\n",
    "import matplotlib.pyplot as plt"
   ]
  },
  {
   "cell_type": "code",
   "execution_count": null,
   "metadata": {},
   "outputs": [],
   "source": [
    "print(\"Num GPUs Available: \", len(tf.config.list_physical_devices('GPU')))"
   ]
  },
  {
   "cell_type": "markdown",
   "metadata": {},
   "source": [
    "## 데이터 전처리"
   ]
  },
  {
   "cell_type": "code",
   "execution_count": null,
   "metadata": {},
   "outputs": [],
   "source": [
    "# cifar-10 dataset\n",
    "(x_train, y_train), (x_test, y_test) = tf.keras.datasets.cifar10.load_data()\n",
    "\n",
    "# 32x32 pixel, 3 channels (RGB), values: 0~255\n",
    "x_train = x_train / 255.0\n",
    "x_train = x_train.reshape(-1, 32, 32, 3).astype(np.float32)\n",
    "x_test = x_test / 255.0\n",
    "x_test = x_test.reshape(-1, 32, 32, 3).astype(np.float32)\n",
    "\n",
    "# 10 classes\n",
    "class_names = ['airplane', 'car', 'bird', 'cat', 'deer', 'dog', 'frog', 'horse', 'ship', 'truck']"
   ]
  },
  {
   "cell_type": "code",
   "execution_count": null,
   "metadata": {},
   "outputs": [],
   "source": [
    "x_train.shape # 50000 training images, 32x32 pixels, 3 channels, (0~255)"
   ]
  },
  {
   "cell_type": "code",
   "execution_count": null,
   "metadata": {},
   "outputs": [],
   "source": [
    "y_train.shape # 50000 labels, 1 dim for class (0~9)"
   ]
  },
  {
   "cell_type": "code",
   "execution_count": null,
   "metadata": {},
   "outputs": [],
   "source": [
    "x_test.shape # 10000 test images."
   ]
  },
  {
   "cell_type": "code",
   "execution_count": null,
   "metadata": {},
   "outputs": [],
   "source": [
    "# 데이터셋 확인\n",
    "n = (5, 5)\n",
    "\n",
    "# 5x5개의 데이터셋 이미지와 class를 확인합니다.\n",
    "fig, ax = plt.subplots(n[0],n[1],figsize=(12, 10))\n",
    "\n",
    "for i in range(n[0] * n[1]):\n",
    "    elem = i\n",
    "    row = i // n[1]\n",
    "    col = i % n[1]\n",
    "    ax[row][col].imshow(x_train[elem].reshape(32,32,3), vmin=0, vmax=1)\n",
    "    ax[row][col].set(xticks=[], yticks=[], frame_on=False)\n",
    "    ax[row][col].set(xlabel=\"{}\".format(class_names[y_train[elem].item()])) \n",
    "fig.tight_layout() \n",
    "\n",
    "plt.show()"
   ]
  },
  {
   "cell_type": "markdown",
   "metadata": {},
   "source": [
    "## 모델 구성"
   ]
  },
  {
   "cell_type": "code",
   "execution_count": null,
   "metadata": {},
   "outputs": [],
   "source": [
    "# Parameters\n",
    "learning_rate = 0.001\n",
    "num_epochs = 30\n",
    "batch_size = 128\n",
    "\n",
    "# Network Parameters\n",
    "img_shape = (32, 32) # CIFAR10 data input (img shape: 32x32)\n",
    "num_class = 10"
   ]
  },
  {
   "cell_type": "code",
   "execution_count": null,
   "metadata": {
    "scrolled": true
   },
   "outputs": [],
   "source": [
    "from tensorflow.keras import Model, layers\n",
    "\n",
    "class CNNModel(Model):\n",
    "    def __init__(self):\n",
    "        super().__init__()\n",
    "        self.conv1 = layers.Conv2D(32,3, activation='relu', padding=\"same\", input_shape=(32,32,3))\n",
    "        self.conv2 = layers.Conv2D(64,3, activation='relu', padding=\"same\")\n",
    "        self.maxpool = layers.MaxPool2D((2,2))\n",
    "        self.flatten = layers.Flatten()\n",
    "        self.dropoutc = layers.Dropout(0.3)\n",
    "        self.dropoutd = layers.Dropout(0.5)\n",
    "        self.d1 = layers.Dense(256, activation='relu')\n",
    "        self.d2 = layers.Dense(10)\n",
    "        self.bn1 = layers.BatchNormalization(momentum=0.9)\n",
    "        self.bn2 = layers.BatchNormalization(momentum=0.9)\n",
    "        self.bn3 = layers.BatchNormalization(momentum=0.9)\n",
    "\n",
    "    def call(self, x):\n",
    "        x = tf.reshape(x, [-1, 32, 32, 3])\n",
    "        \n",
    "        # convolution layer (32x32, 3channel) + activation (relu) + batch normalization + max pooling + dropout (0.5)\n",
    "        x = self.conv1(x)\n",
    "        x = self.bn1(x)\n",
    "        x = self.maxpool(x)\n",
    "        x = self.dropoutc(x)\n",
    "        \n",
    "        # convolution layer (64x64, 3channel) + activation (relu) + batch normalization + max pooling + dropout (0.5)\n",
    "        x = self.conv2(x)\n",
    "        x = self.bn2(x)\n",
    "        x = self.maxpool(x)\n",
    "        x = self.dropoutc(x)\n",
    "        \n",
    "        # dense layer (256 dimension) + activation (relu) + batch normalization + dropout (0.3)\n",
    "        x = self.flatten(x)\n",
    "        x = self.d1(x)\n",
    "        x = self.bn3(x)\n",
    "        x = self.dropoutd(x)\n",
    "        \n",
    "        # dense layer (10 dimension)\n",
    "        x = self.d2(x)\n",
    "        return x"
   ]
  },
  {
   "cell_type": "code",
   "execution_count": null,
   "metadata": {},
   "outputs": [],
   "source": [
    "# 데이더셋 로더 (batch size, shuffling)\n",
    "\n",
    "train_ds = tf.data.Dataset.from_tensor_slices(\n",
    "    (x_train, y_train)).shuffle(x_train.shape[0]).batch(batch_size)\n",
    "\n",
    "test_ds = tf.data.Dataset.from_tensor_slices((x_test, y_test)).batch(batch_size)"
   ]
  },
  {
   "cell_type": "code",
   "execution_count": null,
   "metadata": {},
   "outputs": [],
   "source": [
    "# 모델 평가 (loss, 정확도)\n",
    "\n",
    "train_loss = tf.keras.metrics.Mean(name='train_loss')\n",
    "train_accuracy = tf.keras.metrics.SparseCategoricalAccuracy(name=\"train_accuracy\")\n",
    "\n",
    "test_loss = tf.keras.metrics.Mean(name='test_loss')\n",
    "test_accuracy = tf.keras.metrics.SparseCategoricalAccuracy(name=\"test_accuracy\")"
   ]
  },
  {
   "cell_type": "code",
   "execution_count": null,
   "metadata": {},
   "outputs": [],
   "source": [
    "# 최적화 목적 함수 (cross entropy loss)\n",
    "\n",
    "loss_object = tf.keras.losses.SparseCategoricalCrossentropy(from_logits=True)\n",
    "\n",
    "# 최적화 알고리즘 (Adam)\n",
    "\n",
    "optimizer = tf.keras.optimizers.Adam(learning_rate)"
   ]
  },
  {
   "cell_type": "code",
   "execution_count": null,
   "metadata": {},
   "outputs": [],
   "source": [
    "@tf.function\n",
    "def train_step(images, labels):\n",
    "    with tf.GradientTape() as tape:\n",
    "        # 모형에 데이터를 넣어서 예측 값을 얻음\n",
    "        predictions = model(images, training=True)  # training이 True일 경우 dropout 사용\n",
    "        \n",
    "        # 최적화 목표함수를 기준으로 예측 값을 평가 (loss를 구함)\n",
    "        loss = loss_object(labels, predictions)\n",
    "    \n",
    "    # loss를 최소화하는 기울기(gradient)를 계산함.\n",
    "    gradients = tape.gradient(loss, model.trainable_variables)\n",
    "    \n",
    "    # 기울기를 바탕으로 모형 파라미터를 수정함\n",
    "    optimizer.apply_gradients(zip(gradients, model.trainable_variables))\n",
    "    \n",
    "    # loss, accuracy 기록\n",
    "    train_loss(loss)\n",
    "    train_accuracy(labels, predictions)\n",
    "\n",
    "@tf.function\n",
    "def test_step(images, labels):\n",
    "    predictions = model(images, training=False)  # training이 False일 경우 dropout 사용 안함\n",
    "    t_loss = loss_object(labels, predictions)\n",
    "\n",
    "    test_loss(t_loss)\n",
    "    test_accuracy(labels, predictions)"
   ]
  },
  {
   "cell_type": "code",
   "execution_count": null,
   "metadata": {},
   "outputs": [],
   "source": [
    "model = CNNModel()"
   ]
  },
  {
   "cell_type": "code",
   "execution_count": null,
   "metadata": {},
   "outputs": [],
   "source": [
    "loss_history = []\n",
    "acc_history = []\n",
    "\n",
    "for epoch in range(num_epochs):\n",
    "    # loss, accuracy 기록 리셋\n",
    "    train_loss.reset_states()\n",
    "    train_accuracy.reset_states()\n",
    "    test_loss.reset_states()\n",
    "    test_accuracy.reset_states()\n",
    "    \n",
    "    # training 데이터셋으로 학습\n",
    "    for images, labels in train_ds:\n",
    "        train_step(images, labels)\n",
    "\n",
    "    # test 데이터셋으로 성능 평가\n",
    "    for images, labels in test_ds:\n",
    "        test_step(images, labels)\n",
    "        \n",
    "    print(\n",
    "        f'Epoch {epoch + 1}, '\n",
    "        f'Loss: {train_loss.result()}, '\n",
    "        f'Accuracy: {train_accuracy.result() * 100}, '\n",
    "        f'Test Loss: {test_loss.result()}, '\n",
    "        f'Test Accuracy: {test_accuracy.result() * 100}'\n",
    "    )\n",
    "    \n",
    "    acc_history.append(test_accuracy.result())\n",
    "    loss_history.append(test_loss.result())"
   ]
  },
  {
   "cell_type": "code",
   "execution_count": null,
   "metadata": {},
   "outputs": [],
   "source": [
    "y_predicted = model(x_test, training=False)\n",
    "y_predicted = tf.math.argmax(y_predicted, 1)\n",
    "y_predicted.numpy()  # 모형 예측값"
   ]
  },
  {
   "cell_type": "code",
   "execution_count": null,
   "metadata": {},
   "outputs": [],
   "source": [
    "from sklearn.metrics import accuracy_score, classification_report, confusion_matrix, f1_score\n",
    "\n",
    "# precision, recall, f1-score\n",
    "report = classification_report(y_true=y_test, y_pred=y_predicted, target_names=class_names)\n",
    "print(report)"
   ]
  },
  {
   "cell_type": "code",
   "execution_count": null,
   "metadata": {},
   "outputs": [],
   "source": [
    "# confusion matrix\n",
    "\n",
    "conf = confusion_matrix(y_true=y_test, y_pred=y_predicted)\n",
    "\n",
    "plt.figure(figsize=(12,10))\n",
    "plt.imshow(conf, cmap=plt.cm.Greys, interpolation=\"nearest\")\n",
    "plt.title(\"Confusion matrix\")\n",
    "\n",
    "plt.colorbar()\n",
    "\n",
    "tick_marks = np.arange(len(class_names))\n",
    "plt.xticks(tick_marks, class_names, rotation=45)\n",
    "plt.yticks(tick_marks, class_names)\n",
    "\n",
    "plt.tight_layout()\n",
    "plt.ylabel(\"Actual label\")\n",
    "plt.xlabel(\"Predicted label\")\n",
    "\n",
    "plt.show()"
   ]
  },
  {
   "cell_type": "code",
   "execution_count": null,
   "metadata": {},
   "outputs": [],
   "source": [
    "fig, ax = plt.subplots(figsize=(10, 7))\n",
    "plt.plot(loss_history)\n",
    "plt.xlabel('Epochs', fontsize = 15)\n",
    "plt.ylabel('Cost', fontsize = 15)\n",
    "plt.title('Cost vs Epochs', fontsize=15)\n",
    "plt.show()\n",
    "\n",
    "fig, ax = plt.subplots(figsize=(10, 7))\n",
    "plt.plot(acc_history)\n",
    "plt.xlabel('Epochs', fontsize = 15)\n",
    "plt.ylabel('Accuracy', fontsize = 15)\n",
    "plt.title('Accuracy vs Epochs', fontsize=15)\n",
    "plt.show()"
   ]
  },
  {
   "cell_type": "code",
   "execution_count": null,
   "metadata": {},
   "outputs": [],
   "source": [
    "# 데이터를 잘 분류하고 있는지 확인\n",
    "\n",
    "number = 29\n",
    "prediction = x_test[number]\n",
    "true_label = y_test[number]\n",
    "plt.figure()\n",
    "plt.imshow(prediction.reshape(32,32,3))\n",
    "plt.xticks([])\n",
    "plt.yticks([])\n",
    "# plt.show()\n",
    "\n",
    "predict = model(prediction, training=False)\n",
    "predicted_label = tf.math.argmax(predict, 1)\n",
    "predicted_label = predicted_label.numpy().item()\n",
    "true_label = true_label.item()\n",
    "predict = tf.nn.softmax(predict).numpy().squeeze()\n",
    "\n",
    "if predicted_label == true_label:\n",
    "    color = 'blue'\n",
    "else:\n",
    "    color = 'red'\n",
    "    \n",
    "plt.xlabel(\"{} {:2.2f}% ({})\".format(class_names[predicted_label],100*np.max(predict),class_names[true_label]),color=color)\n",
    "\n",
    "plt.figure()\n",
    "thisplot = plt.bar(range(10), predict, color=\"#777777\")\n",
    "plt.ylim([0, 1])\n",
    "plt.xticks(range(10), class_names, rotation=45)\n",
    "predicted_label = np.argmax(predict)\n",
    "thisplot[predicted_label].set_color('red')\n",
    "thisplot[true_label].set_color('blue')"
   ]
  }
 ],
 "metadata": {
  "kernelspec": {
   "display_name": "Python 3",
   "language": "python",
   "name": "python3"
  },
  "language_info": {
   "codemirror_mode": {
    "name": "ipython",
    "version": 3
   },
   "file_extension": ".py",
   "mimetype": "text/x-python",
   "name": "python",
   "nbconvert_exporter": "python",
   "pygments_lexer": "ipython3",
   "version": "3.8.10"
  }
 },
 "nbformat": 4,
 "nbformat_minor": 2
}
